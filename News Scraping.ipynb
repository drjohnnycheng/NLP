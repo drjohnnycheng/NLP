{
 "cells": [
  {
   "cell_type": "code",
   "execution_count": 1,
   "metadata": {},
   "outputs": [
    {
     "name": "stdout",
     "output_type": "stream",
     "text": [
      "Collecting jieba\n",
      "  Downloading https://files.pythonhosted.org/packages/71/46/c6f9179f73b818d5827202ad1c4a94e371a29473b7f043b736b4dab6b8cd/jieba-0.39.zip (7.3MB)\n",
      "Building wheels for collected packages: jieba\n",
      "  Running setup.py bdist_wheel for jieba: started\n",
      "  Running setup.py bdist_wheel for jieba: finished with status 'done'\n",
      "  Stored in directory: C:\\Users\\a1\\AppData\\Local\\pip\\Cache\\wheels\\c9\\c7\\63\\a9ec0322ccc7c365fd51e475942a82395807186e94f0522243\n",
      "Successfully built jieba\n",
      "Installing collected packages: jieba\n",
      "Successfully installed jieba-0.39\n"
     ]
    },
    {
     "name": "stderr",
     "output_type": "stream",
     "text": [
      "You are using pip version 9.0.1, however version 19.2.1 is available.\n",
      "You should consider upgrading via the 'python -m pip install --upgrade pip' command.\n"
     ]
    }
   ],
   "source": [
    "!pip install jieba"
   ]
  },
  {
   "cell_type": "code",
   "execution_count": 2,
   "metadata": {
    "scrolled": true
   },
   "outputs": [
    {
     "data": {
      "text/plain": [
       "'(星島日報報道)科技大學繼去年獲田家炳基金會捐贈三百萬元，今年續獲基金會捐助五百萬元，注資由科大賽馬會高等研究院設立的「田家炳教育基金」，以推動大學科研發展及促進內地與香港青年學者的學術交流。田家炳基金會董事局主席田慶先於儀式上，肯定科大教研成果，又指「適逢政府推出配對金計畫擴大我們的捐款效益，讓更多的科大師生受惠。」經今次注資後，「田家炳教育基金」本金將增至一千一百萬元；今次捐款主要用於資助內地年輕研究員來港教研，推動大學科研發展及促進中港青年學者的學術交流；以及設立「田家炳追夢獎學金」，資助有經濟及其他學習需要的學生突破困境，追尋夢想。田家炳基金會董事局主席田慶先於捐贈儀式上，讚揚科大近年科研成果豐碩，並肯定基金會捐贈成果，表示對教育基金注資有信心。他又表示：「適逢政府推出配對金計畫擴大我們的捐款效益，讓更多的科大師生受惠。」科大校長史維致辭時感謝基金會的慷慨捐贈，「這筆捐款能吸引更多年輕的優秀學者匯聚科大，以及幫助有需要的學生全人發展。」另外，科大早年亦將大學中心會堂命名為「田家炳廳」，以表彰其對教育及社會的奉獻。'"
      ]
     },
     "execution_count": 2,
     "metadata": {},
     "output_type": "execute_result"
    }
   ],
   "source": [
    "# Scrape News\n",
    "\n",
    "from bs4 import BeautifulSoup\n",
    "from urllib.request import urlopen\n",
    "\n",
    "url = 'http://std.stheadline.com/daily/article/detail/2038591'\n",
    "#url = 'http://std.stheadline.com/instant/articles/detail/1055917/' # Instant News Not Work\n",
    "news_page = urlopen(url)\n",
    "soup = BeautifulSoup(news_page, 'lxml')\n",
    "\n",
    "pg = soup.find('div', class_='paragraph')\n",
    "pg.find('p').get_text().replace('\\u3000', '')"
   ]
  },
  {
   "cell_type": "code",
   "execution_count": 5,
   "metadata": {
    "collapsed": true
   },
   "outputs": [],
   "source": [
    "import jieba\n",
    "\n",
    "def separate(content):\n",
    "    seg_list = jieba.cut(content, cut_all=True)\n",
    "    return \"/ \".join(seg_list)"
   ]
  },
  {
   "cell_type": "code",
   "execution_count": 6,
   "metadata": {},
   "outputs": [
    {
     "name": "stderr",
     "output_type": "stream",
     "text": [
      "Building prefix dict from the default dictionary ...\n",
      "Dumping model to file cache C:\\Users\\a1\\AppData\\Local\\Temp\\jieba.cache\n",
      "Loading model cost 0.834 seconds.\n",
      "Prefix dict has been built succesfully.\n"
     ]
    },
    {
     "data": {
      "text/plain": [
       "'/ / 星/ 島/ 日/ 報/ 報/ 道/ / / 科技/ 大/ 學/ 繼/ 去年/ 獲/ 田家/ 田家炳/ 基金/ 會/ 捐/ 贈/ 三百/ 萬/ 元/ / / 今年/ 續/ 獲/ 基金/ 會/ 捐助/ 五百/ 萬/ 元/ / / 注/ 資/ 由/ 科大/ 賽/ 馬/ 會/ 高等/ 研究/ 研究院/ 設/ 立/ 的/ / / 田家/ 田家炳/ 教育/ 基金/ / / / 以/ 推/ 動/ 大/ 學/ 科研/ 發/ 展/ 及/ 促/ 進/ 內/ 地/ 與/ 香港/ 青年/ 學/ 者/ 的/ 學/ 術/ 交流/ / / 田家/ 田家炳/ 基金/ 會/ 董事/ 董事局/ 局主席/ 主席/ 田/ 慶/ 先/ 於/ 儀/ 式/ 上/ / / 肯定/ 科大/ 教研/ 研成/ 成果/ / / 又/ 指/ / / 適/ 逢/ 政府/ 推出/ 配/ 對/ 金/ 計/ 畫/ 擴/ 大/ 我/ 們/ 的/ 捐款/ 效益/ / / 讓/ 更多/ 的/ 科大/ 師/ 生/ 受惠/ / / / 經/ 今次/ 注/ 資/ 後/ / / / 田家/ 田家炳/ 教育/ 基金/ / / 本金/ 將/ 增至/ 一千/ 一千一百/ 千一/ 一百/ 萬/ 元/ / / 今次/ 捐款/ 主要/ 要用/ 於/ 資/ 助/ 內/ 地/ 年/ 輕/ 研究/ 員/ 來/ 港/ 教研/ / / 推/ 動/ 大/ 學/ 科研/ 發/ 展/ 及/ 促/ 進/ 中港/ 青年/ 學/ 者/ 的/ 學/ 術/ 交流/ / / 以及/ 設/ 立/ / / 田家/ 田家炳/ 追/ 夢/ 獎/ 學/ 金/ / / / 資/ 助/ 有/ 經/ 濟/ 及其/ 其他/ 學/ 習/ 需要/ 的/ 學/ 生/ 突破/ 困境/ / / 追/ 尋/ 夢/ 想/ / / 田家/ 田家炳/ 基金/ 會/ 董事/ 董事局/ 局主席/ 主席/ 田/ 慶/ 先/ 於/ 捐/ 贈/ 儀/ 式/ 上/ / / 讚/ 揚/ 科大/ 近年/ 科研/ 科研成果/ 研成/ 成果/ 豐/ 碩/ / / 並/ 肯定/ 基金/ 會/ 捐/ 贈/ 成果/ / / 表示/ 對/ 教育/ 基金/ 注/ 資/ 有/ 信心/ / / 他/ 又/ 表示/ / / / 適/ 逢/ 政府/ 推出/ 配/ 對/ 金/ 計/ 畫/ 擴/ 大/ 我/ 們/ 的/ 捐款/ 效益/ / / 讓/ 更多/ 的/ 科大/ 師/ 生/ 受惠/ / / / 科大/ 大校/ 長/ 史/ 維/ 致/ 辭/ 時/ 感/ 謝/ 基金/ 會/ 的/ 慷慨/ 捐/ 贈/ / / / 這/ 筆/ 捐款/ 能/ 吸引/ 更多/ 多年/ 輕/ 的/ 優/ 秀/ 學/ 者/ 匯/ 聚/ 科大/ / / 以及/ 幫/ 助/ 有/ 需要/ 的/ 學/ 生/ 全人/ 發/ 展/ / / / 另外/ / / 科大/ 大早/ 早年/ 亦/ 將/ 大/ 學/ 中心/ 會/ 堂/ 命名/ 為/ / / 田家/ 田家炳/ 廳/ / / / 以/ 表彰/ 其/ 對/ 教育/ 及/ 社/ 會/ 的/ 奉/ 獻/ / '"
      ]
     },
     "execution_count": 6,
     "metadata": {},
     "output_type": "execute_result"
    }
   ],
   "source": [
    "anews = pg.find('p').get_text().replace('\\u3000', '')\n",
    "separate(anews)"
   ]
  },
  {
   "cell_type": "code",
   "execution_count": 9,
   "metadata": {
    "collapsed": true
   },
   "outputs": [],
   "source": [
    "jieba.load_userdict('./data/jc_dict.utf8')"
   ]
  },
  {
   "cell_type": "code",
   "execution_count": 10,
   "metadata": {},
   "outputs": [
    {
     "data": {
      "text/plain": [
       "'/ / 星島日報/ 報/ 道/ / / 科技/ 科技大學/ 繼/ 去年/ 獲/ 田家/ 田家炳/ 田家炳基金會/ 基金/ 會/ 捐/ 贈/ 三百/ 萬/ 元/ / / 今年/ 續/ 獲/ 基金/ 會/ 捐助/ 五百/ 萬/ 元/ / / 注/ 資/ 由/ 科大/ 賽/ 馬/ 會/ 高等/ 研究/ 研究院/ 設/ 立/ 的/ / / 田家/ 田家炳/ 田家炳教育基金/ 教育/ 基金/ / / / 以/ 推/ 動/ 大/ 學/ 科研/ 科研發展/ 及/ 促/ 進/ 內/ 地/ 與/ 香港/ 青年/ 學/ 者/ 的/ 學術交流/ 交流/ / / 田家/ 田家炳/ 田家炳基金會/ 基金/ 會/ 董事/ 董事局/ 董事局主席/ 局主席/ 主席/ 田/ 慶/ 先/ 於/ 儀/ 式/ 上/ / / 肯定/ 科大/ 教研/ 研成/ 成果/ / / 又/ 指/ / / 適/ 逢/ 政府/ 推出/ 配/ 對/ 金/ 計/ 畫/ 擴/ 大/ 我/ 們/ 的/ 捐款/ 效益/ / / 讓/ 更多/ 的/ 科大/ 師生/ 受惠/ / / / 經/ 今次/ 注/ 資/ 後/ / / / 田家/ 田家炳/ 田家炳教育基金/ 教育/ 基金/ / / 本金/ 將/ 增至/ 一千/ 一千一百/ 千一/ 一百/ 萬/ 元/ / / 今次/ 捐款/ 主要/ 要用/ 於/ 資/ 助/ 內/ 地/ 年/ 輕/ 研究/ 員/ 來/ 港/ 教研/ / / 推/ 動/ 大/ 學/ 科研/ 科研發展/ 及/ 促/ 進/ 中港/ 青年/ 學/ 者/ 的/ 學術交流/ 交流/ / / 以及/ 設/ 立/ / / 田家/ 田家炳/ 追/ 夢/ 獎/ 學/ 金/ / / / 資/ 助/ 有/ 經/ 濟/ 及其/ 其他/ 學/ 習/ 需要/ 的/ 學/ 生/ 突破/ 困境/ / / 追/ 尋/ 夢/ 想/ / / 田家/ 田家炳/ 田家炳基金會/ 基金/ 會/ 董事/ 董事局/ 董事局主席/ 局主席/ 主席/ 田/ 慶/ 先/ 於/ 捐/ 贈/ 儀/ 式/ 上/ / / 讚/ 揚/ 科大/ 近年/ 科研/ 科研成果/ 研成/ 成果/ 豐/ 碩/ / / 並/ 肯定/ 基金/ 會/ 捐/ 贈/ 成果/ / / 表示/ 對/ 教育/ 基金/ 注/ 資/ 有/ 信心/ / / 他/ 又/ 表示/ / / / 適/ 逢/ 政府/ 推出/ 配/ 對/ 金/ 計/ 畫/ 擴/ 大/ 我/ 們/ 的/ 捐款/ 效益/ / / 讓/ 更多/ 的/ 科大/ 師生/ 受惠/ / / / 科大/ 大校/ 校長/ 史/ 維/ 致/ 辭/ 時/ 感/ 謝/ 基金/ 會/ 的/ 慷慨/ 捐/ 贈/ / / / 這/ 筆/ 捐款/ 能/ 吸引/ 更多/ 多年/ 輕/ 的/ 優/ 秀/ 學/ 者/ 匯/ 聚/ 科大/ / / 以及/ 幫/ 助/ 有/ 需要/ 的/ 學/ 生/ 全人/ 發/ 展/ / / / 另外/ / / 科大/ 大早/ 早年/ 亦/ 將/ 大/ 學/ 中心/ 會/ 堂/ 命名/ 為/ / / 田家/ 田家炳/ 廳/ / / / 以/ 表彰/ 其/ 對/ 教育/ 及/ 社/ 會/ 的/ 奉獻/ / '"
      ]
     },
     "execution_count": 10,
     "metadata": {},
     "output_type": "execute_result"
    }
   ],
   "source": [
    "separate(anews)"
   ]
  },
  {
   "cell_type": "code",
   "execution_count": 2,
   "metadata": {},
   "outputs": [
    {
     "name": "stderr",
     "output_type": "stream",
     "text": [
      "Building prefix dict from the default dictionary ...\n",
      "Loading model from cache C:\\Users\\a1\\AppData\\Local\\Temp\\jieba.cache\n",
      "Loading model cost 0.593 seconds.\n",
      "Prefix dict has been built succesfully.\n"
     ]
    }
   ],
   "source": [
    "import pandas as pdf\n",
    "from pandas import DataFrame\n",
    "from bs4 import BeautifulSoup\n",
    "from urllib.request import urlopen\n",
    "from collections import Counter\n",
    "import jieba\n",
    "\n",
    "# Scrape the news contents from a url\n",
    "def scrape(news):\n",
    "    news_page = urlopen(url + news)\n",
    "    soup = BeautifulSoup(news_page, 'lxml')\n",
    "    pg = soup.find('div', class_='paragraph')\n",
    "    return pg.find('p').get_text().replace('\\u3000', '').strip()\n",
    "\n",
    "# Separate the Chinese text into segments using the library 'jieba'\n",
    "def separate(content):\n",
    "    seg_list = jieba.cut(content, cut_all=True)\n",
    "    return \"/ \".join(seg_list)\n",
    "\n",
    "news_list = [\"2038717\", \"2038720\", \"2039134\"]\n",
    "url = 'http://std.stheadline.com/daily/article/detail/'\n",
    "\n",
    "# Create columns for building a dataframe\n",
    "source = ['Sing Dao' for i in range(len(news_list))]\n",
    "content = list(map(scrape, news_list))\n",
    "segments = list(map(separate, content))\n",
    "counts = [Counter(segment.split('/ ')).most_common() for segment in segments]\n",
    "\n",
    "# Build a dataframe and save it to a csv file\n",
    "data = {'Source': source, 'Content': content, 'Segments': segments, 'Word Counts': counts}\n",
    "df = DataFrame(data, index=news_list, columns=['Source', 'Content', 'Segments', 'Word Counts'])\n",
    "df.to_csv('news.csv', encoding='utf-8')"
   ]
  },
  {
   "cell_type": "code",
   "execution_count": null,
   "metadata": {
    "collapsed": true
   },
   "outputs": [],
   "source": []
  }
 ],
 "metadata": {
  "kernelspec": {
   "display_name": "Python 3",
   "language": "python",
   "name": "python3"
  },
  "language_info": {
   "codemirror_mode": {
    "name": "ipython",
    "version": 3
   },
   "file_extension": ".py",
   "mimetype": "text/x-python",
   "name": "python",
   "nbconvert_exporter": "python",
   "pygments_lexer": "ipython3",
   "version": "3.6.1"
  }
 },
 "nbformat": 4,
 "nbformat_minor": 2
}
